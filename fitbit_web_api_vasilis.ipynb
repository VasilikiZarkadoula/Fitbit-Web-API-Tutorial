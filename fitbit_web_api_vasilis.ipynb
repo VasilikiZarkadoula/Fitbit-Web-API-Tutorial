{
  "cells": [
    {
      "cell_type": "markdown",
      "metadata": {
        "id": "wcNCqLs_cFm3"
      },
      "source": [
        "# Get Data"
      ]
    },
    {
      "cell_type": "code",
      "execution_count": 1,
      "metadata": {
        "id": "2jGzPfMrcOx9"
      },
      "outputs": [],
      "source": [
        "#!pip install CherryPy\n",
        "#!pip install fitbit"
      ]
    },
    {
      "cell_type": "code",
      "execution_count": 1,
      "metadata": {
        "id": "0SBJhtWBcKm4"
      },
      "outputs": [],
      "source": [
        "%matplotlib inline\n",
        "import matplotlib.pyplot as plt\n",
        "import fitbit\n",
        "import gather_keys_oauth2 as Oauth2\n",
        "import pandas as pd \n",
        "import datetime\n",
        "import requests\n",
        "import hashlib\n",
        "import random\n",
        "from time import sleep\n",
        "\n",
        "\n",
        "# YOU NEED TO PUT IN YOUR OWN CLIENT_ID AND CLIENT_SECRET\n",
        "CLIENT_ID='23QQNX'\n",
        "CLIENT_SECRET='2cf8156ff7b81eadd26d80a30082067c'"
      ]
    },
    {
      "cell_type": "markdown",
      "metadata": {
        "id": "xMh1hIz3eol1"
      },
      "source": [
        "# API Authorization"
      ]
    },
    {
      "cell_type": "code",
      "execution_count": 2,
      "metadata": {
        "colab": {
          "base_uri": "https://localhost:8080/"
        },
        "id": "HOwb_E0SetCc",
        "outputId": "97ea9d9d-3612-43f7-b432-99bd594a4ac6"
      },
      "outputs": [
        {
          "name": "stderr",
          "output_type": "stream",
          "text": [
            "[20/Apr/2023:12:54:48] ENGINE Listening for SIGTERM.\n",
            "[20/Apr/2023:12:54:48] ENGINE Bus STARTING\n",
            "CherryPy Checker:\n",
            "The Application mounted at '' has an empty config.\n",
            "\n",
            "[20/Apr/2023:12:54:48] ENGINE Set handler for console events.\n",
            "[20/Apr/2023:12:54:48] ENGINE Started monitor thread 'Autoreloader'.\n",
            "[20/Apr/2023:12:54:48] ENGINE Serving on http://127.0.0.1:8080\n",
            "[20/Apr/2023:12:54:48] ENGINE Bus STARTED\n"
          ]
        },
        {
          "name": "stdout",
          "output_type": "stream",
          "text": [
            "127.0.0.1 - - [20/Apr/2023:12:54:56] \"GET /?code=75389ddbcf09b67b177ec7e4df740d986abcf6b7&state=Ljhat3dqo9ukllACs8NzQufNOPTkIN HTTP/1.1\" 200 122 \"\" \"Mozilla/5.0 (Windows NT 10.0; Win64; x64) AppleWebKit/537.36 (KHTML, like Gecko) Chrome/112.0.0.0 Safari/537.36\"\n"
          ]
        },
        {
          "name": "stderr",
          "output_type": "stream",
          "text": [
            "[20/Apr/2023:12:54:57] ENGINE Bus STOPPING\n",
            "[20/Apr/2023:12:54:57] ENGINE HTTP Server cherrypy._cpwsgi_server.CPWSGIServer(('127.0.0.1', 8080)) shut down\n",
            "[20/Apr/2023:12:54:57] ENGINE Stopped thread 'Autoreloader'.\n",
            "[20/Apr/2023:12:54:57] ENGINE Removed handler for console events.\n",
            "[20/Apr/2023:12:54:57] ENGINE Bus STOPPED\n",
            "[20/Apr/2023:12:54:57] ENGINE Bus EXITING\n",
            "[20/Apr/2023:12:54:57] ENGINE Waiting for child threads to terminate...\n",
            "[20/Apr/2023:12:54:57] ENGINE Bus EXITED\n",
            "[20/Apr/2023:12:54:57] ENGINE Waiting for thread Thread-16.\n"
          ]
        }
      ],
      "source": [
        "server=Oauth2.OAuth2Server(CLIENT_ID, CLIENT_SECRET)\n",
        "server.browser_authorize()\n",
        "ACCESS_TOKEN=str(server.fitbit.client.session.token['access_token'])\n",
        "REFRESH_TOKEN=str(server.fitbit.client.session.token['refresh_token'])\n",
        "auth2_client=fitbit.Fitbit(CLIENT_ID,CLIENT_SECRET,oauth2=True,access_token=ACCESS_TOKEN,refresh_token=REFRESH_TOKEN)"
      ]
    },
    {
      "attachments": {},
      "cell_type": "markdown",
      "metadata": {},
      "source": [
        "# Get Data"
      ]
    },
    {
      "cell_type": "code",
      "execution_count": 3,
      "metadata": {},
      "outputs": [],
      "source": [
        "#Automated process with a function to access each of variables more quickly.\n",
        "def df_fitbit(activity, base_date, end_date, token):\n",
        "    url = 'https://api.fitbit.com/1/user/-/' + activity + '/date/' + base_date + '/' + end_date + '.json'\n",
        "    response = requests.get(url=url, headers={'Authorization':'Bearer ' + token}).json()\n",
        "    sleep(10)\n",
        "    \n",
        "    return response"
      ]
    },
    {
      "cell_type": "code",
      "execution_count": 4,
      "metadata": {},
      "outputs": [
        {
          "name": "stdout",
          "output_type": "stream",
          "text": [
            "{'activities-steps': [{'dateTime': '2023-03-29', 'value': '6276'}, {'dateTime': '2023-03-30', 'value': '6012'}, {'dateTime': '2023-03-31', 'value': '7251'}, {'dateTime': '2023-04-01', 'value': '12250'}, {'dateTime': '2023-04-02', 'value': '11525'}, {'dateTime': '2023-04-03', 'value': '1086'}, {'dateTime': '2023-04-04', 'value': '9324'}, {'dateTime': '2023-04-05', 'value': '10303'}, {'dateTime': '2023-04-06', 'value': '7629'}, {'dateTime': '2023-04-07', 'value': '4822'}, {'dateTime': '2023-04-08', 'value': '10719'}, {'dateTime': '2023-04-09', 'value': '5977'}, {'dateTime': '2023-04-10', 'value': '4069'}, {'dateTime': '2023-04-11', 'value': '2150'}, {'dateTime': '2023-04-12', 'value': '3357'}, {'dateTime': '2023-04-13', 'value': '6967'}, {'dateTime': '2023-04-14', 'value': '7850'}, {'dateTime': '2023-04-15', 'value': '10757'}, {'dateTime': '2023-04-16', 'value': '3202'}, {'dateTime': '2023-04-17', 'value': '1947'}, {'dateTime': '2023-04-18', 'value': '3320'}, {'dateTime': '2023-04-19', 'value': '2025'}]}\n"
          ]
        }
      ],
      "source": [
        "token = ACCESS_TOKEN\n",
        "base_date = '2023-03-29'\n",
        "end_date = (datetime.datetime.today() - datetime.timedelta(days=1)).strftime('%Y-%m-%d')\n",
        "\n",
        "#data to gather (in that case, steps)\n",
        "activity = 'activities/steps'\n",
        "getSteps = df_fitbit(activity, base_date, end_date, token)\n",
        "print(getSteps)\n",
        "\n"
      ]
    },
    {
      "cell_type": "code",
      "execution_count": 5,
      "metadata": {},
      "outputs": [],
      "source": [
        "def create_data(dicts,types):\n",
        "    data_list = []\n",
        "    # loop through each nested dictionary\n",
        "    for i in range(0,len(dicts)):        \n",
        "        for item in dicts[i]:            \n",
        "            # create a random hash ID\n",
        "            hash_object = hashlib.sha256(str(random.getrandbits(256)).encode())\n",
        "            id = hash_object.hexdigest()           \n",
        "            # create a new dictionary with the id, type, and data fields\n",
        "            new_dict = {\n",
        "                'id': id,\n",
        "                'type': types[i],\n",
        "                'data': item\n",
        "            }           \n",
        "            # append the new dictionary to the output list\n",
        "            data_list.append(new_dict)\n",
        "    return data_list"
      ]
    },
    {
      "cell_type": "code",
      "execution_count": 6,
      "metadata": {},
      "outputs": [
        {
          "data": {
            "text/plain": [
              "[{'id': '2315c5daded93ab0465a2204f4cdfcf4fd5ed6cffac196d01866340493efe529',\n",
              "  'type': 'steps',\n",
              "  'data': {'dateTime': '2023-03-29', 'value': '6276'}},\n",
              " {'id': '060e3c3b54e44b99c04587188b115b9750b3327a54e6832d27e9472923b5cdb8',\n",
              "  'type': 'steps',\n",
              "  'data': {'dateTime': '2023-03-30', 'value': '6012'}},\n",
              " {'id': 'a141be4f3ec736ac086f19231efdf055800d534e794a2f402b5ad38896b1e57d',\n",
              "  'type': 'steps',\n",
              "  'data': {'dateTime': '2023-03-31', 'value': '7251'}},\n",
              " {'id': 'ef3b1815048c2b48533cbaf5ef53e5ed68e25259f203d6a46bbcdb0af6182c1b',\n",
              "  'type': 'steps',\n",
              "  'data': {'dateTime': '2023-04-01', 'value': '12250'}},\n",
              " {'id': 'e17469379f080175f54fb41544b18e9afba37429428cf752ce8b9cce81138e4a',\n",
              "  'type': 'steps',\n",
              "  'data': {'dateTime': '2023-04-02', 'value': '11525'}},\n",
              " {'id': '644db3573fe12a64639574aa45aab5b6cf226dec814fd6511dab70df3584d334',\n",
              "  'type': 'steps',\n",
              "  'data': {'dateTime': '2023-04-03', 'value': '1086'}},\n",
              " {'id': '96351ed91f1dc00cabbc5b5360e25ce72ea842186594825157b56e1a313b174d',\n",
              "  'type': 'steps',\n",
              "  'data': {'dateTime': '2023-04-04', 'value': '9324'}},\n",
              " {'id': '417d444363b4b3f6c049e63ae1d720a014431504cd737b6172d3de16df52cddd',\n",
              "  'type': 'steps',\n",
              "  'data': {'dateTime': '2023-04-05', 'value': '10303'}},\n",
              " {'id': '3f1e6100025a577eb0885c295703b9a07463eb37639964ee713fa834f89e5500',\n",
              "  'type': 'steps',\n",
              "  'data': {'dateTime': '2023-04-06', 'value': '7629'}},\n",
              " {'id': 'b6b73be6a1e42e040a53a9fc5cb79e664ca8740cd5a6f94afbf99b8997d35f14',\n",
              "  'type': 'steps',\n",
              "  'data': {'dateTime': '2023-04-07', 'value': '4822'}},\n",
              " {'id': 'd9dbda6cadb1fd1a86d735dabc7952eb1fe80025615ffd434d171a0605166228',\n",
              "  'type': 'steps',\n",
              "  'data': {'dateTime': '2023-04-08', 'value': '10719'}},\n",
              " {'id': '48761298200fac27669ff219a25e415af496043251068c0a82b6b197fc27a763',\n",
              "  'type': 'steps',\n",
              "  'data': {'dateTime': '2023-04-09', 'value': '5977'}},\n",
              " {'id': '8ec757bb095901651358508595e815fdbcbfd4cbbe850ee0ec92549d097b0fb3',\n",
              "  'type': 'steps',\n",
              "  'data': {'dateTime': '2023-04-10', 'value': '4069'}},\n",
              " {'id': 'eeeb2ace3942b1063c2d2ff6decc43e507fa340d2d892ef535c4add8d8562c7d',\n",
              "  'type': 'steps',\n",
              "  'data': {'dateTime': '2023-04-11', 'value': '2150'}},\n",
              " {'id': 'f35ff6da21d5ba7ad373bcf6b4cf5fae05bc1bff77a6425ecc42448e6be10b09',\n",
              "  'type': 'steps',\n",
              "  'data': {'dateTime': '2023-04-12', 'value': '3357'}},\n",
              " {'id': '12ff1dd6d324bad822dadd651fd1244753a968318308a73ebf25d826db3efff6',\n",
              "  'type': 'steps',\n",
              "  'data': {'dateTime': '2023-04-13', 'value': '6967'}},\n",
              " {'id': 'acf78d7659ac57c325eeed479b8ab532fbb90dbc9644e0c8dd7945689c6cc7df',\n",
              "  'type': 'steps',\n",
              "  'data': {'dateTime': '2023-04-14', 'value': '7850'}},\n",
              " {'id': '8b5818c82dd6bc4aa146e28c44431f32a3d5f016c1b6fbbcbef7e17a8ca9b4b9',\n",
              "  'type': 'steps',\n",
              "  'data': {'dateTime': '2023-04-15', 'value': '10757'}},\n",
              " {'id': '09c74bd29a587c451493c792dd83ee7a5b1b95a9587c92547ba546fc202c363a',\n",
              "  'type': 'steps',\n",
              "  'data': {'dateTime': '2023-04-16', 'value': '3202'}},\n",
              " {'id': '4fb597f2e0b2fab2f4efc0086675cb0645292f7cecdd2bdb0e8e6c35f7948ce0',\n",
              "  'type': 'steps',\n",
              "  'data': {'dateTime': '2023-04-17', 'value': '1947'}},\n",
              " {'id': 'b57c8449c0462ae4b8e94283ffb09cedc0f5e62cc61dd0acf6c7dfc1b0b7b071',\n",
              "  'type': 'steps',\n",
              "  'data': {'dateTime': '2023-04-18', 'value': '3320'}},\n",
              " {'id': '4f4a34fec85c07d1f64e19610ea132309ac72f7e3debcaa02f1a23ec42cbc25e',\n",
              "  'type': 'steps',\n",
              "  'data': {'dateTime': '2023-04-19', 'value': '2025'}}]"
            ]
          },
          "execution_count": 6,
          "metadata": {},
          "output_type": "execute_result"
        }
      ],
      "source": [
        "#gather all activity dictionaries in a list\n",
        "act_dicts = [getSteps['activities-steps']]\n",
        "act_types = ['steps']\n",
        "\n",
        "steps_per_day = create_data(act_dicts,act_types)\n",
        "steps_per_day"
      ]
    },
    {
      "cell_type": "code",
      "execution_count": 7,
      "metadata": {},
      "outputs": [
        {
          "name": "stdout",
          "output_type": "stream",
          "text": [
            "[{'dateTime': '2023-03-29', 'value': '6276'}, {'dateTime': '2023-03-30', 'value': '6012'}, {'dateTime': '2023-03-31', 'value': '7251'}, {'dateTime': '2023-04-01', 'value': '12250'}, {'dateTime': '2023-04-02', 'value': '11525'}, {'dateTime': '2023-04-03', 'value': '1086'}, {'dateTime': '2023-04-04', 'value': '9324'}, {'dateTime': '2023-04-05', 'value': '10303'}, {'dateTime': '2023-04-06', 'value': '7629'}, {'dateTime': '2023-04-07', 'value': '4822'}, {'dateTime': '2023-04-08', 'value': '10719'}, {'dateTime': '2023-04-09', 'value': '5977'}, {'dateTime': '2023-04-10', 'value': '4069'}, {'dateTime': '2023-04-11', 'value': '2150'}, {'dateTime': '2023-04-12', 'value': '3357'}, {'dateTime': '2023-04-13', 'value': '6967'}, {'dateTime': '2023-04-14', 'value': '7850'}, {'dateTime': '2023-04-15', 'value': '10757'}, {'dateTime': '2023-04-16', 'value': '3202'}, {'dateTime': '2023-04-17', 'value': '1947'}, {'dateTime': '2023-04-18', 'value': '3320'}, {'dateTime': '2023-04-19', 'value': '2025'}]\n"
          ]
        }
      ],
      "source": [
        "#Count days with more than 500 steps\n",
        "steps_count = []\n",
        "for i in range(0, len(steps_per_day)):\n",
        "    get_data = steps_per_day[i]\n",
        "    steps_value = get_data.get('data').get('value')\n",
        "    \n",
        "    if int(steps_value) > 500:\n",
        "        steps_count.append(get_data.get('data'))\n",
        "    \n",
        "print(steps_count)"
      ]
    },
    {
      "cell_type": "code",
      "execution_count": 8,
      "metadata": {},
      "outputs": [
        {
          "name": "stdout",
          "output_type": "stream",
          "text": [
            "[{'dateTime': '2023-04-01', 'value': '12250'}, {'dateTime': '2023-04-02', 'value': '11525'}, {'dateTime': '2023-04-05', 'value': '10303'}, {'dateTime': '2023-04-08', 'value': '10719'}, {'dateTime': '2023-04-15', 'value': '10757'}]\n"
          ]
        }
      ],
      "source": [
        "#Highly active days (more than 10000 steps)\n",
        "highly_active_days = []\n",
        "for i in range(0, len(steps_count)):\n",
        "    steps = steps_count[i].get('value')\n",
        "\n",
        "    if int(steps) >= 10000:\n",
        "        highly_active_days.append(steps_count[i])\n",
        "\n",
        "print(highly_active_days)"
      ]
    }
  ],
  "metadata": {
    "colab": {
      "provenance": []
    },
    "kernelspec": {
      "display_name": "Python 3",
      "name": "python3"
    },
    "language_info": {
      "codemirror_mode": {
        "name": "ipython",
        "version": 3
      },
      "file_extension": ".py",
      "mimetype": "text/x-python",
      "name": "python",
      "nbconvert_exporter": "python",
      "pygments_lexer": "ipython3",
      "version": "3.10.9"
    }
  },
  "nbformat": 4,
  "nbformat_minor": 0
}
