{
 "cells": [
  {
   "cell_type": "code",
   "execution_count": 1,
   "id": "760cb19a",
   "metadata": {},
   "outputs": [],
   "source": [
    "%matplotlib inline\n",
    "import matplotlib.pyplot as plt\n",
    "import fitbit\n",
    "import gather_keys_oauth2 as Oauth2\n",
    "import pandas as pd \n",
    "import datetime\n",
    "\n",
    "\n",
    "CLIENT_ID='23QQNX'\n",
    "CLIENT_SECRET='2cf8156ff7b81eadd26d80a30082067c'"
   ]
  },
  {
   "cell_type": "code",
   "execution_count": 2,
   "id": "5e9392b3",
   "metadata": {},
   "outputs": [
    {
     "name": "stderr",
     "output_type": "stream",
     "text": [
      "[12/Apr/2023:10:40:43] ENGINE Listening for SIGTERM.\n",
      "[12/Apr/2023:10:40:43] ENGINE Bus STARTING\n",
      "[12/Apr/2023:10:40:43] ENGINE Set handler for console events.\n",
      "CherryPy Checker:\n",
      "The Application mounted at '' has an empty config.\n",
      "\n",
      "[12/Apr/2023:10:40:43] ENGINE Started monitor thread 'Autoreloader'.\n",
      "[12/Apr/2023:10:40:44] ENGINE Serving on http://127.0.0.1:8080\n",
      "[12/Apr/2023:10:40:44] ENGINE Bus STARTED\n"
     ]
    },
    {
     "name": "stdout",
     "output_type": "stream",
     "text": [
      "127.0.0.1 - - [12/Apr/2023:10:40:46] \"GET /?code=8f57e5ab8ebc56185b7bab2bcd2fa7115c09a992&state=DOUVPuScHWvfZl5HLq2mucDL8iyTfE HTTP/1.1\" 200 122 \"\" \"Mozilla/5.0 (Windows NT 10.0; Win64; x64) AppleWebKit/537.36 (KHTML, like Gecko) Chrome/111.0.0.0 Safari/537.36\"\n"
     ]
    },
    {
     "name": "stderr",
     "output_type": "stream",
     "text": [
      "[12/Apr/2023:10:40:47] ENGINE Bus STOPPING\n",
      "[12/Apr/2023:10:40:47] ENGINE HTTP Server cherrypy._cpwsgi_server.CPWSGIServer(('127.0.0.1', 8080)) shut down\n",
      "[12/Apr/2023:10:40:47] ENGINE Removed handler for console events.\n",
      "[12/Apr/2023:10:40:47] ENGINE Stopped thread 'Autoreloader'.\n",
      "[12/Apr/2023:10:40:47] ENGINE Bus STOPPED\n",
      "[12/Apr/2023:10:40:47] ENGINE Bus EXITING\n",
      "[12/Apr/2023:10:40:47] ENGINE Bus EXITED\n",
      "[12/Apr/2023:10:40:47] ENGINE Waiting for child threads to terminate...\n"
     ]
    }
   ],
   "source": [
    "server=Oauth2.OAuth2Server(CLIENT_ID, CLIENT_SECRET)\n",
    "server.browser_authorize()\n",
    "ACCESS_TOKEN=str(server.fitbit.client.session.token['access_token'])\n",
    "REFRESH_TOKEN=str(server.fitbit.client.session.token['refresh_token'])\n",
    "auth2_client=fitbit.Fitbit(CLIENT_ID,CLIENT_SECRET,oauth2=True,access_token=ACCESS_TOKEN,refresh_token=REFRESH_TOKEN)"
   ]
  },
  {
   "cell_type": "code",
   "execution_count": 107,
   "id": "678ac1ad",
   "metadata": {},
   "outputs": [],
   "source": [
    "import requests\n",
    "import json\n",
    "import pandas as pd\n",
    "from time import sleep\n",
    "from datetime import datetime\n",
    "\n",
    "\n",
    "def df_fitbit_1(activity, base_date, end_date, token):\n",
    "    url = 'https://api.fitbit.com/1/user/-/' + activity + '/date/' + base_date + '/' + end_date + '.json'\n",
    "    response = requests.get(url=url, headers={'Authorization':'Bearer ' + token}).json()\n",
    "\n",
    "    return response\n",
    "\n",
    "def df_fitbit_2(token):\n",
    "    url = 'https://api.fitbit.com/1/user/-/activities/goals/weekly.json'    \n",
    "    response = requests.get(url=url, headers={'Authorization':'Bearer ' + token}).json()\n",
    "    return response\n",
    "\n",
    "def df_fitbit_3(base_date, token):\n",
    "    url = 'https://api.fitbit.com/1/user/-/activities/date/' + base_date + '.json'\n",
    "    response = requests.get(url=url, headers={'Authorization':'Bearer ' + token}).json()\n",
    "\n",
    "    return response\n"
   ]
  },
  {
   "cell_type": "code",
   "execution_count": 113,
   "id": "45948ae7",
   "metadata": {},
   "outputs": [],
   "source": [
    "token = ACCESS_TOKEN\n",
    "import datetime\n",
    "base_date = '2023-03-29'\n",
    "end_date = (datetime.datetime.today() - datetime.timedelta(days=1)).strftime('%Y-%m-%d')\n",
    "\n",
    "activity = ['activities/log/steps', 'activities/log/distance', 'activities/log/calories', 'activities/log/floors', \n",
    "            'activities/log/elevation', 'activities/minutesSedentary', 'activities/log/minutesLightlyActive', \n",
    "            'activities/log/minutesFairlyActive', 'activities/log/minutesVeryActive', 'activities/log/activityCalories', \n",
    "            'sleep/startTime', 'sleep/timeInBed', 'sleep/minutesAsleep', 'sleep/awakeningsCount', 'sleep/minutesAwake', \n",
    "            'sleep/minutesToFallAsleep', 'sleep/minutesAfterWakeup', 'sleep/efficiency']"
   ]
  },
  {
   "cell_type": "code",
   "execution_count": 77,
   "id": "05acaec3",
   "metadata": {},
   "outputs": [
    {
     "data": {
      "text/plain": [
       "{'goals': {'activeZoneMinutes': 150,\n",
       "  'caloriesOut': 16541,\n",
       "  'distance': 56.33,\n",
       "  'floors': 70,\n",
       "  'steps': 70000}}"
      ]
     },
     "execution_count": 77,
     "metadata": {},
     "output_type": "execute_result"
    }
   ],
   "source": [
    "df_fitbit_2(token)"
   ]
  },
  {
   "cell_type": "code",
   "execution_count": 110,
   "id": "743e7f93",
   "metadata": {},
   "outputs": [
    {
     "data": {
      "text/plain": [
       "{'activeMinutes': 30,\n",
       " 'caloriesOut': 2363,\n",
       " 'distance': 8.05,\n",
       " 'floors': 10,\n",
       " 'steps': 10000}"
      ]
     },
     "execution_count": 110,
     "metadata": {},
     "output_type": "execute_result"
    }
   ],
   "source": [
    "result = df_fitbit_3(base_date, token)\n",
    "result['goals']"
   ]
  },
  {
   "cell_type": "code",
   "execution_count": 111,
   "id": "fd8dcd97",
   "metadata": {},
   "outputs": [
    {
     "name": "stdout",
     "output_type": "stream",
     "text": [
      "2023-03-29\n",
      "{'activeMinutes': 30, 'caloriesOut': 2363, 'distance': 8.05, 'floors': 10, 'steps': 10000}\n",
      "2023-03-30\n",
      "{'activeMinutes': 30, 'caloriesOut': 2363, 'distance': 8.05, 'floors': 10, 'steps': 10000}\n",
      "2023-03-31\n",
      "{'activeMinutes': 30, 'caloriesOut': 2363, 'distance': 8.05, 'floors': 10, 'steps': 10000}\n",
      "2023-04-01\n",
      "{'activeMinutes': 30, 'caloriesOut': 2363, 'distance': 8.05, 'floors': 10, 'steps': 10000}\n",
      "2023-04-02\n",
      "{'activeMinutes': 30, 'caloriesOut': 2363, 'distance': 8.05, 'floors': 10, 'steps': 10000}\n",
      "2023-04-03\n",
      "{'activeMinutes': 30, 'caloriesOut': 2363, 'distance': 8.05, 'floors': 10, 'steps': 10000}\n",
      "2023-04-04\n",
      "{'activeMinutes': 30, 'caloriesOut': 2363, 'distance': 8.05, 'floors': 10, 'steps': 10000}\n",
      "2023-04-05\n",
      "{'activeMinutes': 30, 'caloriesOut': 2363, 'distance': 8.05, 'floors': 10, 'steps': 10000}\n",
      "2023-04-06\n",
      "{'activeMinutes': 30, 'caloriesOut': 2363, 'distance': 8.05, 'floors': 10, 'steps': 10000}\n",
      "2023-04-07\n",
      "{'activeMinutes': 30, 'caloriesOut': 2363, 'distance': 8.05, 'floors': 10, 'steps': 10000}\n",
      "2023-04-08\n",
      "{'activeMinutes': 30, 'caloriesOut': 2363, 'distance': 8.05, 'floors': 10, 'steps': 10000}\n",
      "2023-04-09\n",
      "{'activeMinutes': 30, 'caloriesOut': 2363, 'distance': 8.05, 'floors': 10, 'steps': 10000}\n",
      "2023-04-10\n",
      "{'activeMinutes': 30, 'caloriesOut': 2363, 'distance': 8.05, 'floors': 10, 'steps': 10000}\n",
      "2023-04-11\n",
      "{'activeMinutes': 30, 'caloriesOut': 2363, 'distance': 8.05, 'floors': 10, 'steps': 10000}\n"
     ]
    }
   ],
   "source": [
    "allDates = pd.date_range(start=base_date, end = end_date)\n",
    "\n",
    "for oneDate in allDates:\n",
    "    oneDate = oneDate.date().strftime(\"%Y-%m-%d\")\n",
    "    oneDay = df_fitbit_3(oneDate, token)\n",
    "    oneDayGoals = oneDay['goals']\n",
    "    print(oneDate)\n",
    "    print(oneDayGoals)"
   ]
  },
  {
   "cell_type": "code",
   "execution_count": 115,
   "id": "bc0bb9c3",
   "metadata": {},
   "outputs": [
    {
     "data": {
      "text/html": [
       "<div>\n",
       "<style scoped>\n",
       "    .dataframe tbody tr th:only-of-type {\n",
       "        vertical-align: middle;\n",
       "    }\n",
       "\n",
       "    .dataframe tbody tr th {\n",
       "        vertical-align: top;\n",
       "    }\n",
       "\n",
       "    .dataframe thead th {\n",
       "        text-align: right;\n",
       "    }\n",
       "</style>\n",
       "<table border=\"1\" class=\"dataframe\">\n",
       "  <thead>\n",
       "    <tr style=\"text-align: right;\">\n",
       "      <th></th>\n",
       "      <th>date</th>\n",
       "      <th>minutesSedentary</th>\n",
       "      <th>minutesLightlyActive</th>\n",
       "      <th>minutesFairlyActive</th>\n",
       "      <th>minutesVeryActive</th>\n",
       "    </tr>\n",
       "  </thead>\n",
       "  <tbody>\n",
       "    <tr>\n",
       "      <th>0</th>\n",
       "      <td>2023-03-29</td>\n",
       "      <td>727</td>\n",
       "      <td>213.0</td>\n",
       "      <td>3</td>\n",
       "      <td>11</td>\n",
       "    </tr>\n",
       "    <tr>\n",
       "      <th>1</th>\n",
       "      <td>2023-03-30</td>\n",
       "      <td>776</td>\n",
       "      <td>153.0</td>\n",
       "      <td>6</td>\n",
       "      <td>15</td>\n",
       "    </tr>\n",
       "    <tr>\n",
       "      <th>2</th>\n",
       "      <td>2023-03-31</td>\n",
       "      <td>730</td>\n",
       "      <td>152.0</td>\n",
       "      <td>6</td>\n",
       "      <td>26</td>\n",
       "    </tr>\n",
       "    <tr>\n",
       "      <th>3</th>\n",
       "      <td>2023-04-01</td>\n",
       "      <td>753</td>\n",
       "      <td>218.0</td>\n",
       "      <td>34</td>\n",
       "      <td>12</td>\n",
       "    </tr>\n",
       "    <tr>\n",
       "      <th>4</th>\n",
       "      <td>2023-04-02</td>\n",
       "      <td>745</td>\n",
       "      <td>250.0</td>\n",
       "      <td>26</td>\n",
       "      <td>20</td>\n",
       "    </tr>\n",
       "    <tr>\n",
       "      <th>5</th>\n",
       "      <td>2023-04-03</td>\n",
       "      <td>823</td>\n",
       "      <td>74.0</td>\n",
       "      <td>0</td>\n",
       "      <td>0</td>\n",
       "    </tr>\n",
       "    <tr>\n",
       "      <th>6</th>\n",
       "      <td>2023-04-04</td>\n",
       "      <td>644</td>\n",
       "      <td>176.0</td>\n",
       "      <td>24</td>\n",
       "      <td>31</td>\n",
       "    </tr>\n",
       "    <tr>\n",
       "      <th>7</th>\n",
       "      <td>2023-04-05</td>\n",
       "      <td>553</td>\n",
       "      <td>270.0</td>\n",
       "      <td>9</td>\n",
       "      <td>13</td>\n",
       "    </tr>\n",
       "    <tr>\n",
       "      <th>8</th>\n",
       "      <td>2023-04-06</td>\n",
       "      <td>691</td>\n",
       "      <td>204.0</td>\n",
       "      <td>5</td>\n",
       "      <td>18</td>\n",
       "    </tr>\n",
       "    <tr>\n",
       "      <th>9</th>\n",
       "      <td>2023-04-07</td>\n",
       "      <td>665</td>\n",
       "      <td>163.0</td>\n",
       "      <td>6</td>\n",
       "      <td>9</td>\n",
       "    </tr>\n",
       "    <tr>\n",
       "      <th>10</th>\n",
       "      <td>2023-04-08</td>\n",
       "      <td>652</td>\n",
       "      <td>225.0</td>\n",
       "      <td>7</td>\n",
       "      <td>34</td>\n",
       "    </tr>\n",
       "    <tr>\n",
       "      <th>11</th>\n",
       "      <td>2023-04-09</td>\n",
       "      <td>660</td>\n",
       "      <td>230.0</td>\n",
       "      <td>0</td>\n",
       "      <td>0</td>\n",
       "    </tr>\n",
       "    <tr>\n",
       "      <th>12</th>\n",
       "      <td>2023-04-10</td>\n",
       "      <td>758</td>\n",
       "      <td>154.0</td>\n",
       "      <td>0</td>\n",
       "      <td>0</td>\n",
       "    </tr>\n",
       "    <tr>\n",
       "      <th>13</th>\n",
       "      <td>2023-04-11</td>\n",
       "      <td>752</td>\n",
       "      <td>113.0</td>\n",
       "      <td>0</td>\n",
       "      <td>0</td>\n",
       "    </tr>\n",
       "  </tbody>\n",
       "</table>\n",
       "</div>"
      ],
      "text/plain": [
       "         date  minutesSedentary  minutesLightlyActive  minutesFairlyActive  \\\n",
       "0  2023-03-29               727                 213.0                    3   \n",
       "1  2023-03-30               776                 153.0                    6   \n",
       "2  2023-03-31               730                 152.0                    6   \n",
       "3  2023-04-01               753                 218.0                   34   \n",
       "4  2023-04-02               745                 250.0                   26   \n",
       "5  2023-04-03               823                  74.0                    0   \n",
       "6  2023-04-04               644                 176.0                   24   \n",
       "7  2023-04-05               553                 270.0                    9   \n",
       "8  2023-04-06               691                 204.0                    5   \n",
       "9  2023-04-07               665                 163.0                    6   \n",
       "10 2023-04-08               652                 225.0                    7   \n",
       "11 2023-04-09               660                 230.0                    0   \n",
       "12 2023-04-10               758                 154.0                    0   \n",
       "13 2023-04-11               752                 113.0                    0   \n",
       "\n",
       "    minutesVeryActive  \n",
       "0                  11  \n",
       "1                  15  \n",
       "2                  26  \n",
       "3                  12  \n",
       "4                  20  \n",
       "5                   0  \n",
       "6                  31  \n",
       "7                  13  \n",
       "8                  18  \n",
       "9                   9  \n",
       "10                 34  \n",
       "11                  0  \n",
       "12                  0  \n",
       "13                  0  "
      ]
     },
     "execution_count": 115,
     "metadata": {},
     "output_type": "execute_result"
    }
   ],
   "source": [
    "df = pd.DataFrame()\n",
    "\n",
    "data_fitbit_minutesSedentary = df_fitbit_1(activity[5], base_date, end_date, token)\n",
    "df['date'] = pd.DataFrame(data_fitbit_minutesSedentary['activities-minutesSedentary'])['dateTime']\n",
    "df['date'] = pd.to_datetime(df['date'],infer_datetime_format=True)\n",
    "df['minutesSedentary'] = pd.DataFrame(data_fitbit_minutesSedentary['activities-minutesSedentary'])['value'].astype(int)\n",
    "data_fitbit_LightlyActive = df_fitbit_1(activity[6], base_date, end_date, token)\n",
    "df['minutesLightlyActive'] = pd.DataFrame(data_fitbit_LightlyActive['activities-log-minutesLightlyActive'])['value'].astype(float)\n",
    "data_fitbit_FairlyActive = df_fitbit_1(activity[7], base_date, end_date, token)\n",
    "df['minutesFairlyActive'] = pd.DataFrame(data_fitbit_FairlyActive['activities-log-minutesFairlyActive'])['value'].astype(int)\n",
    "data_fitbit_VeryActive = df_fitbit_1(activity[8], base_date, end_date, token)\n",
    "df['minutesVeryActive'] = pd.DataFrame(data_fitbit_VeryActive['activities-log-minutesVeryActive'])['value'].astype(int)\n",
    "\n",
    "df"
   ]
  },
  {
   "cell_type": "code",
   "execution_count": null,
   "id": "d3b8482d",
   "metadata": {},
   "outputs": [],
   "source": []
  }
 ],
 "metadata": {
  "kernelspec": {
   "display_name": "Python 3 (ipykernel)",
   "language": "python",
   "name": "python3"
  },
  "language_info": {
   "codemirror_mode": {
    "name": "ipython",
    "version": 3
   },
   "file_extension": ".py",
   "mimetype": "text/x-python",
   "name": "python",
   "nbconvert_exporter": "python",
   "pygments_lexer": "ipython3",
   "version": "3.9.13"
  }
 },
 "nbformat": 4,
 "nbformat_minor": 5
}
